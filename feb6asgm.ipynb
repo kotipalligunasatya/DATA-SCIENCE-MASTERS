{
 "cells": [
  {
   "cell_type": "code",
   "execution_count": 13,
   "id": "23323799-f44a-4400-821c-963a41fee7da",
   "metadata": {},
   "outputs": [],
   "source": [
    "'''\n",
    "Q1. Create a function which will take a list as an argument and return the product of all the numbers\n",
    "after creating a flat list.\n",
    "Use the below-given list as an argument for your function.\n",
    "list1 = [1,2,3,4, [44,55,66, True], False, (34,56,78,89,34), {1,2,3,3,2,1}, {1:34, \"key2\": [55, 67, 78, 89], 4: (45,\n",
    "22, 61, 34)}, [56, 'data science'], 'Machine Learning']\n",
    "'''\n",
    "def calculate_product(lst):\n",
    "    flat_list = []\n",
    "\n",
    "    # Flatten the list\n",
    "    for item in lst:\n",
    "        if type(item) == list or type(item) == tuple:\n",
    "            flat_list.extend(item)\n",
    "        elif type(item) == dict:\n",
    "            for key, value in item.items():\n",
    "                if type(key) == int or type(value) == int:\n",
    "                    flat_list.append(key)\n",
    "                    flat_list.append(value)\n",
    "                elif type(value) == list or type(value) == tuple:\n",
    "                    flat_list.extend(value)\n",
    "        elif type(item) == int:\n",
    "            flat_list.append(item)\n",
    "\n",
    "    # Calculate the product of all the numbers\n",
    "    product = 1\n",
    "    for item in flat_list:\n",
    "        if type(item) == int:\n",
    "            product *= item\n",
    "    \n",
    "    return product\n"
   ]
  },
  {
   "cell_type": "code",
   "execution_count": null,
   "id": "0fcb4025-7c2f-4342-a2b7-dd9fa7774b99",
   "metadata": {},
   "outputs": [],
   "source": [
    "list1 = [1,2,3,4, [44,55,66, True], False, (34,56,78,89,34), {1,2,3,3,2,1}, {1:34, \"key2\": [55, 67, 78, 89], 4: (45,\n",
    "22, 61, 34)}, [56, 'data science'], 'Machine Learning']"
   ]
  },
  {
   "cell_type": "code",
   "execution_count": 15,
   "id": "fed50ff5-9b9b-474c-96bd-9789d9825caf",
   "metadata": {},
   "outputs": [
    {
     "data": {
      "text/plain": [
       "335621713680284480844595200"
      ]
     },
     "execution_count": 15,
     "metadata": {},
     "output_type": "execute_result"
    }
   ],
   "source": [
    "calculate_product(list1)"
   ]
  },
  {
   "cell_type": "code",
   "execution_count": 17,
   "id": "f8c001b5-a74c-4f5b-8e84-21e46f472093",
   "metadata": {},
   "outputs": [
    {
     "data": {
      "text/plain": [
       "'\\nQ2)\\nQ2. Write a python program for encrypting a message sent to you by your friend. The logic of encryption\\nshould be such that, for a the output should be z. For b, the output should be y. For c, the output should\\nbe x respectively. Also, the whitespace should be replaced with a dollar sign. Keep the punctuation\\nmarks unchanged.\\nInput Sentence: I want to become a Data Scientist.\\nEncrypt the above input sentence using the program you just created.\\n'"
      ]
     },
     "execution_count": 17,
     "metadata": {},
     "output_type": "execute_result"
    }
   ],
   "source": [
    "'''\n",
    "Q2)\n",
    "Q2. Write a python program for encrypting a message sent to you by your friend. The logic of encryption\n",
    "should be such that, for a the output should be z. For b, the output should be y. For c, the output should\n",
    "be x respectively. Also, the whitespace should be replaced with a dollar sign. Keep the punctuation\n",
    "marks unchanged.\n",
    "Input Sentence: I want to become a Data Scientist.\n",
    "Encrypt the above input sentence using the program you just created.\n",
    "'''"
   ]
  },
  {
   "cell_type": "code",
   "execution_count": 1,
   "id": "b0b7ac89-18d8-4be1-b574-4e12dea60a65",
   "metadata": {},
   "outputs": [],
   "source": [
    "str=\"I want to become a Data Scientist\"\n",
    "str1=str.lower()"
   ]
  },
  {
   "cell_type": "code",
   "execution_count": 20,
   "id": "f546f23e-c0a2-49fd-ad1a-2c42d254b19d",
   "metadata": {},
   "outputs": [],
   "source": [
    "list1=[]\n",
    "for i in str1:\n",
    "    if i==' ':\n",
    "        list1.append('$')\n",
    "    elif i=='a':\n",
    "        list1.append('z')\n",
    "    else:\n",
    "       \n",
    "        list1.append(chr((ord('a')-ord(i)+ord(\"z\"))))\n",
    "    \n",
    "        "
   ]
  },
  {
   "cell_type": "code",
   "execution_count": 21,
   "id": "467018a0-819b-4c72-b4c0-bc0c1e607ab6",
   "metadata": {},
   "outputs": [
    {
     "name": "stdout",
     "output_type": "stream",
     "text": [
      "r$dzmg$gl$yvxlnv$z$wzgz$hxrvmgrhg"
     ]
    }
   ],
   "source": [
    "for i in list1:\n",
    "    print(i,end=\"\")"
   ]
  },
  {
   "cell_type": "code",
   "execution_count": null,
   "id": "b6f04156-a8b6-4676-90c0-4949c6b14688",
   "metadata": {},
   "outputs": [],
   "source": []
  },
  {
   "cell_type": "code",
   "execution_count": null,
   "id": "c4b14731-f11d-4c9f-b4cb-874f9f70f170",
   "metadata": {},
   "outputs": [],
   "source": []
  }
 ],
 "metadata": {
  "kernelspec": {
   "display_name": "Python 3 (ipykernel)",
   "language": "python",
   "name": "python3"
  },
  "language_info": {
   "codemirror_mode": {
    "name": "ipython",
    "version": 3
   },
   "file_extension": ".py",
   "mimetype": "text/x-python",
   "name": "python",
   "nbconvert_exporter": "python",
   "pygments_lexer": "ipython3",
   "version": "3.10.8"
  }
 },
 "nbformat": 4,
 "nbformat_minor": 5
}
