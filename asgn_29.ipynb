{
 "cells": [
  {
   "cell_type": "markdown",
   "id": "494000a7-400b-4e67-8cc1-dbb7b3448002",
   "metadata": {},
   "source": [
    "1a)Guido van Rossum developed python."
   ]
  },
  {
   "cell_type": "markdown",
   "id": "86d574ce-7ab2-4400-80f0-0f98c0e069a5",
   "metadata": {},
   "source": [
    "2A)python supports object oriented programming"
   ]
  },
  {
   "cell_type": "markdown",
   "id": "0fe89e50-8e83-481c-8f15-54c8cd1e06d4",
   "metadata": {},
   "source": [
    "3A)Yes, Python is a case-sensitive language, i.e., it treats uppercase and lowercase characters differently. This applies to identifiers too. You must avoid using the same name with different cases while naming identifiers."
   ]
  },
  {
   "cell_type": "markdown",
   "id": "7e295c65-db7b-4845-abf1-cbda2d2be8d3",
   "metadata": {},
   "source": [
    "4) The extensions for Python files are - . py, . pyi, ."
   ]
  },
  {
   "cell_type": "markdown",
   "id": "d9431307-4eac-4d92-bbe1-39fa7898e008",
   "metadata": {},
   "source": [
    "5a)python is the interpreted  language.source code first coverted to byte code that is then executed by python virtual machine."
   ]
  },
  {
   "cell_type": "markdown",
   "id": "486686c5-2418-45b1-a0cf-7c0ca448ac0b",
   "metadata": {},
   "source": [
    "6) a module, a function body, and a class definition"
   ]
  },
  {
   "cell_type": "markdown",
   "id": "033d06db-06ec-4b94-8be6-ac8b219e98e1",
   "metadata": {},
   "source": [
    "7)'#' is a charecter used to give single line comments"
   ]
  },
  {
   "cell_type": "markdown",
   "id": "7a7a59bc-85b0-499d-b50e-1da656cd344e",
   "metadata": {},
   "source": [
    "8a)Using sys.version method\n",
    "Using python_version() function\n",
    "Using Python -V command"
   ]
  },
  {
   "cell_type": "markdown",
   "id": "208e0d83-236d-4073-b524-ce76abf1046b",
   "metadata": {},
   "source": [
    "9A)constrct called 'lambda'"
   ]
  },
  {
   "cell_type": "markdown",
   "id": "0b517fa9-7386-423e-9861-df3f293e6567",
   "metadata": {},
   "source": [
    "10)pip(\"pip install packages\")is a standard tool for installing python packages and their dependencies in a secure manner"
   ]
  },
  {
   "cell_type": "markdown",
   "id": "ef7ff60b-fbad-41a4-a9c6-1b23e0dfa287",
   "metadata": {},
   "source": [
    "11)input(),sort(),max(),map(),len() etc..."
   ]
  },
  {
   "cell_type": "markdown",
   "id": "0a8094db-9737-45a6-be8a-724766a38d23",
   "metadata": {},
   "source": [
    "12)An identifier can have a maximum length of 79 characters in Python"
   ]
  },
  {
   "cell_type": "markdown",
   "id": "052dcd62-55c7-4f02-b1cc-8b0df0904be3",
   "metadata": {},
   "source": [
    "13)Data science,\n",
    "Scientific and mathematical computing,\n",
    "Web development,\n",
    "Finance and trading,\n",
    "System automation and administration,\n",
    "Computer graphics,\n",
    "Basic game development,\n",
    "Security and penetration testing,\n",
    "General and application-specific scripting."
   ]
  },
  {
   "cell_type": "markdown",
   "id": "1357eed5-563b-4ff6-9042-a228131bfcd7",
   "metadata": {},
   "source": [
    "14)Memory management in Python involves a private heap containing all Python objects and data structures. The management of this private heap is ensured internally by the Python memory manager."
   ]
  },
  {
   "cell_type": "markdown",
   "id": "421a0add-e41e-43a0-bc84-1195c0e6c666",
   "metadata": {},
   "source": [
    "15)How to install Python and set Path?\n",
    "In the section entitled User Variables, double-click on the entry that says Path. Another window will pop up showing a list of paths. Click the New button and paste the path to your Python executable there. Once that's inserted, select your newly added path and click the Move Up button until it's at the top."
   ]
  },
  {
   "cell_type": "markdown",
   "id": "3583ff1b-8bd2-4a89-8394-2df66f3f9777",
   "metadata": {},
   "source": [
    "16)yes intendation is required in python"
   ]
  }
 ],
 "metadata": {
  "kernelspec": {
   "display_name": "Python 3 (ipykernel)",
   "language": "python",
   "name": "python3"
  },
  "language_info": {
   "codemirror_mode": {
    "name": "ipython",
    "version": 3
   },
   "file_extension": ".py",
   "mimetype": "text/x-python",
   "name": "python",
   "nbconvert_exporter": "python",
   "pygments_lexer": "ipython3",
   "version": "3.10.8"
  }
 },
 "nbformat": 4,
 "nbformat_minor": 5
}
