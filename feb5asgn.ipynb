{
 "cells": [
  {
   "cell_type": "markdown",
   "id": "32652b14-ae94-4530-860a-618471483757",
   "metadata": {},
   "source": [
    "5th feb assignment\n"
   ]
  },
  {
   "cell_type": "code",
   "execution_count": 2,
   "id": "93c63259-5658-45a4-a65e-1c9d4e188af1",
   "metadata": {
    "collapsed": true,
    "jupyter": {
     "outputs_hidden": true
    },
    "tags": []
   },
   "outputs": [
    {
     "data": {
      "text/plain": [
       "'\\nQ1)Explain Class and Object with respect to Object-Oriented Programming. Give a suitable example.\\nanswer)\\nclass is the blueprint of an object whereas object is an instance of the class.\\nexample:\\nbank is the class in which there will be many functionings.bank customers are objects for the bank.\\nanimals are class where as dog and cats are the objects of the class animals.\\n'"
      ]
     },
     "execution_count": 2,
     "metadata": {},
     "output_type": "execute_result"
    }
   ],
   "source": [
    "'''\n",
    "Q1)Explain Class and Object with respect to Object-Oriented Programming. Give a suitable example.\n",
    "answer)\n",
    "class is the blueprint of an object whereas object is an instance of the class.\n",
    "example:\n",
    "bank is the class in which there will be many functionings.bank customers are objects for the bank.\n",
    "animals are class where as dog and cats are the objects of the class animals.\n",
    "'''\n",
    "\n"
   ]
  },
  {
   "cell_type": "code",
   "execution_count": null,
   "id": "86ad3af1-fe8b-44a7-b801-e3064906dc5e",
   "metadata": {},
   "outputs": [],
   "source": [
    "'''\n",
    "Q2. Name the four pillars of OOPs.\n",
    "answer:\n",
    "1)polymorphism\n",
    "2)inheritence\n",
    "3)encapsulation\n",
    "4)abstraction\n",
    "'''"
   ]
  },
  {
   "cell_type": "code",
   "execution_count": null,
   "id": "4f4fbac6-bb6b-439a-b2f4-15545c5d74eb",
   "metadata": {},
   "outputs": [],
   "source": [
    "'''\n",
    "Q3. Explain why the __init__() function is used. Give a suitable example.\n",
    "answer:\n",
    "in oops concept 'init' function is used as the constructor of the respective class.\n",
    "ex:'''\n",
    "class test2:\n",
    "    def __init__(self,name,id,branch):\n",
    "        self.name=name\n",
    "        self.id=id\n",
    "        self.branch=branch\n",
    "    def func_return(self):\n",
    "        return self.name,self.id,self.branch  \n"
   ]
  },
  {
   "cell_type": "code",
   "execution_count": null,
   "id": "73a7552e-9d79-4800-bd49-8cfdd6fff97c",
   "metadata": {},
   "outputs": [],
   "source": [
    "'''\n",
    "Q4. Why self is used in OOPs?\n",
    "self is used as the link between the respective class and attributes and functions defined within the class"
   ]
  },
  {
   "cell_type": "markdown",
   "id": "ccaac3a5",
   "metadata": {},
   "source": []
  },
  {
   "cell_type": "markdown",
   "id": "45845f77",
   "metadata": {},
   "source": []
  },
  {
   "cell_type": "code",
   "execution_count": null,
   "id": "3d6ed9c3-34d7-469b-86b5-44fa366c3968",
   "metadata": {},
   "outputs": [],
   "source": [
    "'''\n",
    "Q5. What is inheritance? Give an example for each type of inheritance.\n",
    "answer:\n",
    "inheritence is define as the inheriting the properties of base class to child class.\n",
    "five types of inheritence i python\n",
    "1)single inheritence \n",
    "2)multiple inheritence \n",
    "3)multilevel inheritence\n",
    "4)hierarchical inheritence\n",
    "5)hybrid inheritence\n",
    "'''\n",
    "##single inheritence\n",
    "class main:\n",
    "    def method(self):\n",
    "        print(\"im in main class\")\n",
    "class derived(main):\n",
    "    def method2(self):\n",
    "        print(\"im in derived class\")\n",
    "##multiple inheritence\n",
    "class mother:\n",
    "    def main1(self):\n",
    "        print(\"mother class\\n\")\n",
    "class father:\n",
    "    def main2(self):\n",
    "        print(\"father class\")\n",
    "class son:\n",
    "    def main3(self):\n",
    "        print(self.main1+self.father)\n",
    "##multilevel inheritence\n",
    "class Grandfather:\n",
    " \n",
    "    def __init__(self, grandfathername):\n",
    "        self.grandfathername = grandfathername \n",
    " \n",
    " class Father(Grandfather):\n",
    "    def __init__(self, fathername, grandfathername):\n",
    "        self.fathername = fathername\n",
    " \n",
    "        # invoking constructor of Grandfather class\n",
    "        Grandfather.__init__(self, grandfathername)\n",
    "# Derived class\n",
    "class Son(Father):\n",
    "    def __init__(self, sonname, fathername, grandfathername):\n",
    "        self.sonname = sonname\n",
    " \n",
    "        # invoking constructor of Father class\n",
    "        Father.__init__(self, fathername, grandfathername)\n",
    " \n",
    "    def print_name(self):\n",
    "        print('Grandfather name :', self.grandfathername)\n",
    "        print(\"Father name :\", self.fathername)\n",
    "        print(\"Son name :\", self.sonname)\n",
    "##heirarchical inheritance\n",
    "# Base class\n",
    "class Parent:\n",
    "    def func1(self):\n",
    "        print(\"This function is in parent class.\")\n",
    " \n",
    "# Derived class1\n",
    "class Child1(Parent):\n",
    "    def func2(self):\n",
    "        print(\"This function is in child 1.\")\n",
    " \n",
    "# Derivied class2\n",
    "class Child2(Parent):\n",
    "    def func3(self):\n",
    "        print(\"This function is in child 2.\")\n",
    "##hybrid inheritance\n",
    "##inheritance consisting of multiple levels of inheritance is calledd hybrid inheritance\n",
    " "
   ]
  }
 ],
 "metadata": {
  "kernelspec": {
   "display_name": "Python 3 (ipykernel)",
   "language": "python",
   "name": "python3"
  },
  "language_info": {
   "codemirror_mode": {
    "name": "ipython",
    "version": 3
   },
   "file_extension": ".py",
   "mimetype": "text/x-python",
   "name": "python",
   "nbconvert_exporter": "python",
   "pygments_lexer": "ipython3",
   "version": "3.10.8"
  }
 },
 "nbformat": 4,
 "nbformat_minor": 5
}
