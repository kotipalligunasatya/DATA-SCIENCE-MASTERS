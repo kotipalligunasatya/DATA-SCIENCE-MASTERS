{
 "cells": [
  {
   "cell_type": "code",
   "execution_count": 16,
   "id": "948e888d-983c-4221-9a57-2c676d549a6f",
   "metadata": {},
   "outputs": [
    {
     "name": "stdin",
     "output_type": "stream",
     "text": [
      "enter the percentage 67\n"
     ]
    },
    {
     "name": "stdout",
     "output_type": "stream",
     "text": [
      "C\n"
     ]
    }
   ],
   "source": [
    "#Q1)\n",
    "percentage=int(input(\"enter the percentage\"))\n",
    "if percentage>90 :\n",
    "    print('A')\n",
    "elif percentage>80 and percentage>=90 :\n",
    "    print('B')\n",
    "elif percentage>=60 and percentage<=80 :\n",
    "    print(\"C\")\n",
    "elif percentage<60 :\n",
    "    print(\"D\")\n"
   ]
  },
  {
   "cell_type": "code",
   "execution_count": 21,
   "id": "716fb1c5-7a73-4ee1-9144-1c7099017c9e",
   "metadata": {},
   "outputs": [
    {
     "name": "stdin",
     "output_type": "stream",
     "text": [
      "enter the cost of the bike 100000\n"
     ]
    },
    {
     "name": "stdout",
     "output_type": "stream",
     "text": [
      "road tax to be paid is 10000.0\n"
     ]
    }
   ],
   "source": [
    "#Q2)\n",
    "cost=int(input(\"enter the cost of the bike\"))\n",
    "if cost>100000:\n",
    "    print(\"road tax to be paid is\",0.15*cost)\n",
    "elif cost>50000 and cost<=100000:\n",
    "    print(\"road tax to be paid is\",0.1*cost)\n",
    "elif cost<=50000 :\n",
    "    print(\"road tax to be paid is\",0.05*cost)"
   ]
  },
  {
   "cell_type": "code",
   "execution_count": 23,
   "id": "10605d28-dfdb-4064-a488-15d6e766137f",
   "metadata": {},
   "outputs": [
    {
     "name": "stdin",
     "output_type": "stream",
     "text": [
      "enter the name Delhi\n"
     ]
    },
    {
     "name": "stdout",
     "output_type": "stream",
     "text": [
      "redfort\n"
     ]
    }
   ],
   "source": [
    "#Q3)\n",
    "name=input(\"enter the name\")\n",
    "if name==\"Delhi\":\n",
    "    print(\"redfort\")\n",
    "if name==\"Agra\":\n",
    "    print(\"tajmahal\")\n",
    "if name==\"Jaipur\":\n",
    "    print(\"jaimahal\")"
   ]
  },
  {
   "cell_type": "code",
   "execution_count": 39,
   "id": "ded6db3d-6f0b-46f9-8eb1-acdd37b8b1af",
   "metadata": {},
   "outputs": [
    {
     "name": "stdin",
     "output_type": "stream",
     "text": [
      "Enter the number 33\n"
     ]
    },
    {
     "name": "stdout",
     "output_type": "stream",
     "text": [
      "Number of times divided by 3 is 2 times\n"
     ]
    }
   ],
   "source": [
    "#Q4)\n",
    "number=int(input(\"Enter the number\"))\n",
    "count=0\n",
    "while number>10:\n",
    "    number=number/3\n",
    "    count=count+1\n",
    "print(f\"Number of times divided by 3 is {count} times\")    \n",
    "    "
   ]
  },
  {
   "cell_type": "code",
   "execution_count": null,
   "id": "28b5dd8e-27f5-46ea-b2f0-a40d416308bc",
   "metadata": {},
   "outputs": [],
   "source": [
    "''' #5)\n",
    "A while statement is a loop. Basically, it continues to execute the code in the while statement for however long the expression is true.\n",
    "\n",
    "Below code is example for while loop\n",
    "'''"
   ]
  },
  {
   "cell_type": "code",
   "execution_count": 47,
   "id": "666ce74b-ad01-4b85-be31-f0cc98676b87",
   "metadata": {
    "tags": []
   },
   "outputs": [
    {
     "name": "stdout",
     "output_type": "stream",
     "text": [
      "0 1 2 3 4 5 6 7 8 9 \n",
      "0 1 2 3 4 5 6 7 8 9 \n",
      "0 1 2 3 4 5 6 7 8 9 \n",
      "0 1 2 3 4 5 6 7 8 9 \n",
      "0 1 2 3 4 5 6 7 8 9 \n",
      "0 1 2 3 4 5 6 7 8 9 \n",
      "0 1 2 3 4 5 6 7 8 9 \n",
      "0 1 2 3 4 5 6 7 8 9 \n",
      "0 1 2 3 4 5 6 7 8 9 \n",
      "0 1 2 3 4 5 6 7 8 9 \n"
     ]
    }
   ],
   "source": [
    "#6\n",
    "i=0\n",
    "j=0\n",
    "while j<10:\n",
    "    while i<10:\n",
    "        print(i,end=' ')\n",
    "        i=i+1\n",
    "    j=j+1\n",
    "    i=0\n",
    "    print()"
   ]
  },
  {
   "cell_type": "code",
   "execution_count": 48,
   "id": "8dbaa8d1-14c1-49b0-97c0-09fc6af2588f",
   "metadata": {},
   "outputs": [
    {
     "name": "stdout",
     "output_type": "stream",
     "text": [
      "\n",
      "0 \n",
      "0 1 \n",
      "0 1 2 \n",
      "0 1 2 3 \n",
      "0 1 2 3 4 \n",
      "0 1 2 3 4 5 \n",
      "0 1 2 3 4 5 6 \n",
      "0 1 2 3 4 5 6 7 \n",
      "0 1 2 3 4 5 6 7 8 \n"
     ]
    }
   ],
   "source": [
    "#6\n",
    "i=0\n",
    "j=0\n",
    "while j<10:\n",
    "    while i<j:\n",
    "        print(i,end=' ')\n",
    "        i=i+1\n",
    "    j=j+1\n",
    "    i=0\n",
    "    print()"
   ]
  },
  {
   "cell_type": "code",
   "execution_count": null,
   "id": "2d3a246f-8c7f-4e95-8840-6a15c26ae30a",
   "metadata": {},
   "outputs": [],
   "source": [
    "#6\n",
    "i=0\n",
    "j=10\n",
    "while j>0:\n",
    "    while i<j:\n",
    "        print(i,end=' ')\n",
    "        i=i+1\n",
    "    j=j-1\n",
    "    i=0\n",
    "    print()"
   ]
  },
  {
   "cell_type": "code",
   "execution_count": null,
   "id": "fd58a7d4-b9eb-47d4-a149-de2a69edcb43",
   "metadata": {},
   "outputs": [],
   "source": [
    "#8,9\n",
    "i=10\n",
    "while i>0:\n",
    "    print(i)\n",
    "    i=i-1"
   ]
  },
  {
   "cell_type": "code",
   "execution_count": null,
   "id": "3fc34c7f-db11-4cb1-8558-0f8134df3ae5",
   "metadata": {},
   "outputs": [],
   "source": []
  },
  {
   "cell_type": "code",
   "execution_count": null,
   "id": "d5de7c30-e27f-4272-a4e8-077369bc128b",
   "metadata": {},
   "outputs": [],
   "source": []
  }
 ],
 "metadata": {
  "kernelspec": {
   "display_name": "Python 3 (ipykernel)",
   "language": "python",
   "name": "python3"
  },
  "language_info": {
   "codemirror_mode": {
    "name": "ipython",
    "version": 3
   },
   "file_extension": ".py",
   "mimetype": "text/x-python",
   "name": "python",
   "nbconvert_exporter": "python",
   "pygments_lexer": "ipython3",
   "version": "3.10.8"
  }
 },
 "nbformat": 4,
 "nbformat_minor": 5
}
